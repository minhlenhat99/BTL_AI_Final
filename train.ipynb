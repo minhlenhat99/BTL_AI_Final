{
 "cells": [
  {
   "cell_type": "markdown",
   "id": "520561ff",
   "metadata": {},
   "source": [
    "# importing needed libraries"
   ]
  },
  {
   "cell_type": "code",
   "execution_count": null,
   "id": "37a0e571",
   "metadata": {},
   "outputs": [],
   "source": [
    "import numpy as np\n",
    "import matplotlib.pyplot as plt\n",
    "import tensorflow as tf\n",
    "import os\n",
    "from tensorflow.keras.preprocessing.image import ImageDataGenerator\n",
    "from sklearn.model_selection import train_test_split\n",
    "from tensorflow.keras.utils import to_categorical\n",
    "import cv2\n",
    "import pydot"
   ]
  },
  {
   "cell_type": "markdown",
   "id": "3ae59e61",
   "metadata": {},
   "source": [
    "# to allow the code working on GPU instead CPU"
   ]
  },
  {
   "cell_type": "code",
   "execution_count": null,
   "id": "986530b8",
   "metadata": {},
   "outputs": [],
   "source": [
    "gpu = tf.config.experimental.list_physical_devices('GPU')\n",
    "#tf.config.experimental.set_memory_growth(gpu[0], True)"
   ]
  },
  {
   "cell_type": "code",
   "execution_count": null,
   "id": "bb13028a",
   "metadata": {},
   "outputs": [],
   "source": [
    "#load_dataset function to load the data and resize the images to 50x50\n",
    "def load_dataset(directory):\n",
    "  images = []\n",
    "  labels = []\n",
    "  for idx, label in enumerate(uniq_labels):\n",
    "    for file in os.listdir(directory + '/'+label):\n",
    "      filepath = directory +'/'+ label + \"/\" + file\n",
    "      img = cv2.resize(cv2.imread(filepath),(50,50))\n",
    "      images.append(img)\n",
    "      labels.append(idx)\n",
    "  images = np.asarray(images)\n",
    "  labels = np.asarray(labels)\n",
    "  return images, labels"
   ]
  },
  {
   "cell_type": "code",
   "execution_count": null,
   "id": "96c150b5",
   "metadata": {},
   "outputs": [],
   "source": [
    "#display_images function to show examples\n",
    "def display_images(x_data,y_data, title, display_label = True):\n",
    "    x, y = x_data,y_data\n",
    "    fig, axes = plt.subplots(5, 8, figsize = (18, 5))\n",
    "    fig.subplots_adjust(hspace = 0.5, wspace = 0.5)\n",
    "    fig.suptitle(title, fontsize = 18)\n",
    "    for i, ax in enumerate(axes.flat):\n",
    "        ax.imshow(cv2.cvtColor(x[i], cv2.COLOR_BGR2RGB))\n",
    "        if display_label:\n",
    "            ax.set_xlabel(uniq_labels[y[i]])\n",
    "        ax.set_xticks([])\n",
    "        ax.set_yticks([])\n",
    "    plt.show()"
   ]
  },
  {
   "cell_type": "code",
   "execution_count": null,
   "id": "d18596b1",
   "metadata": {},
   "outputs": [],
   "source": [
    "#loading_dataset into X_pre and Y_pre\n",
    "#data_dir = r'D:\\yasser_sulaiman\\ANN project\\new model\\dataset\\train'\n",
    "data_dir = r'D:\\TaiLieuCacNam\\20212\\TriTueNhanTaoVaUngDung\\Final_Project\\133372_16_ASLHandSignRecognition\\Data'\n",
    "uniq_labels = sorted(os.listdir(data_dir))\n",
    "X_pre, Y_pre = load_dataset(data_dir)\n",
    "print(X_pre.shape, Y_pre.shape)"
   ]
  },
  {
   "cell_type": "code",
   "execution_count": null,
   "id": "0e40e7bf",
   "metadata": {},
   "outputs": [],
   "source": [
    "#spliting dataset into 80% train, 10% validation and 10% test data\n",
    "X_train, X_test, Y_train, Y_test = train_test_split(X_pre, Y_pre, test_size = 0.8)\n",
    "X_test, X_eval, Y_test, Y_eval = train_test_split(X_test, Y_test, test_size = 0.5)"
   ]
  },
  {
   "cell_type": "code",
   "execution_count": null,
   "id": "7aa44fa3",
   "metadata": {},
   "outputs": [],
   "source": [
    "%matplotlib notebook"
   ]
  },
  {
   "cell_type": "code",
   "execution_count": null,
   "id": "036fd8a1",
   "metadata": {
    "scrolled": true
   },
   "outputs": [],
   "source": [
    "#print shapes and show examples for each set\n",
    "print(\"Train images shape\",X_train.shape, Y_train.shape)\n",
    "print(\"Test images shape\",X_test.shape, Y_test.shape)\n",
    "print(\"Evaluate image shape\",X_eval.shape, Y_eval.shape)\n",
    "print(\"Printing the labels\",uniq_labels, len(uniq_labels))\n",
    "display_images(X_train,Y_train,'Samples from Train Set')\n",
    "display_images(X_test,Y_test,'Samples from Test Set')\n",
    "display_images(X_eval,Y_eval,'Samples from Validation Set')"
   ]
  },
  {
   "cell_type": "code",
   "execution_count": null,
   "id": "c9ca1427",
   "metadata": {},
   "outputs": [],
   "source": [
    "# converting Y_tes and Y_train to One hot vectors using to_categorical\n",
    "# example of one hot => '1' is represented as [0. 1. 0. . . . . 0.]\n",
    "Y_train = to_categorical(Y_train)\n",
    "Y_test = to_categorical(Y_test)\n",
    "Y_eval = to_categorical(Y_eval)\n",
    "X_train = X_train / 255.\n",
    "X_test = X_test/ 255.\n",
    "X_eval = X_eval/ 255."
   ]
  },
  {
   "cell_type": "code",
   "execution_count": null,
   "id": "b4cca38d",
   "metadata": {},
   "outputs": [],
   "source": [
    "# building our model\n",
    "model = tf.keras.Sequential([\n",
    "        tf.keras.layers.Conv2D(16, (3,3), activation ='relu', input_shape=(50,50,3)),\n",
    "        tf.keras.layers.Conv2D(16, (3,3), activation ='relu'),\n",
    "        tf.keras.layers.Conv2D(16, (3,3), activation ='relu'),\n",
    "        tf.keras.layers.MaxPool2D((2,2)),\n",
    "        tf.keras.layers.Conv2D(32, (3,3), activation ='relu'),\n",
    "        tf.keras.layers.Conv2D(32, (3,3), activation ='relu'),\n",
    "        tf.keras.layers.Conv2D(32, (3,3), activation ='relu'),\n",
    "        tf.keras.layers.MaxPool2D((2,2)),\n",
    "        tf.keras.layers.Conv2D(64, (3,3), activation ='relu'),\n",
    "        tf.keras.layers.Conv2D(64, (3,3), activation ='relu'),\n",
    "        tf.keras.layers.Conv2D(64, (3,3), activation ='relu'),\n",
    "        tf.keras.layers.Flatten(),\n",
    "        tf.keras.layers.Dense(128, activation='relu'),\n",
    "        tf.keras.layers.Dense(25, activation='softmax')\n",
    "])\n",
    "\n",
    "model.summary()"
   ]
  },
  {
   "cell_type": "code",
   "execution_count": null,
   "id": "898130f1",
   "metadata": {},
   "outputs": [],
   "source": [
    "#compiling the model\n",
    "#default batch size 32\n",
    "#default learning rate is 0.001\n",
    "model.compile(optimizer = 'adam',\n",
    "               loss = 'categorical_crossentropy',\n",
    "               metrics=['accuracy'],)"
   ]
  },
  {
   "cell_type": "code",
   "execution_count": null,
   "id": "bf980134",
   "metadata": {},
   "outputs": [],
   "source": [
    "#start training(fitting) the data\n",
    "history = model.fit(X_train, Y_train, epochs=20, verbose=1,\n",
    "                validation_data=(X_eval, Y_eval))"
   ]
  },
  {
   "cell_type": "code",
   "execution_count": null,
   "id": "e7d292e4",
   "metadata": {},
   "outputs": [],
   "source": [
    "#testing\n",
    "model.evaluate(X_test, Y_test)"
   ]
  },
  {
   "cell_type": "code",
   "execution_count": null,
   "id": "38931952",
   "metadata": {},
   "outputs": [],
   "source": [
    "#save the model\n",
    "model.save(r'D:\\TaiLieuCacNam\\20212\\TriTueNhanTaoVaUngDung\\Final_Project\\133372_16_ASLHandSignRecognition\\Model\\final_keras_model.h5')"
   ]
  },
  {
   "cell_type": "code",
   "execution_count": null,
   "id": "a02faf94",
   "metadata": {},
   "outputs": [],
   "source": [
    "train_loss = history.history['loss']\n",
    "train_acc = history.history['accuracy']\n",
    "val_loss = history.history['val_loss']\n",
    "val_accuracy = history.history['val_accuracy']\n"
   ]
  },
  {
   "cell_type": "code",
   "execution_count": null,
   "id": "a6ca8cdc",
   "metadata": {},
   "outputs": [],
   "source": []
  },
  {
   "cell_type": "code",
   "execution_count": null,
   "id": "1bae7dfa",
   "metadata": {},
   "outputs": [],
   "source": [
    "#ploting training and validation loss vs. epochs\n",
    "%matplotlib notebook\n",
    "epochs = list(range(1,41))\n",
    "plt.plot(epochs, train_loss, label = \"training loss\")\n",
    "plt.plot(epochs, val_loss, label = \"validation  loss\")\n",
    "plt.legend()\n",
    "plt.show()"
   ]
  },
  {
   "cell_type": "code",
   "execution_count": null,
   "id": "e6fe18ae",
   "metadata": {},
   "outputs": [],
   "source": [
    "#ploting training and validation accuracy vs. epochs\n",
    "%matplotlib notebook\n",
    "plt.plot(epochs, train_acc, label = \"training accuracy\")\n",
    "plt.plot(epochs, val_accuracy, label = \"validation  accuracy\")\n",
    "plt.legend()\n",
    "plt.show()"
   ]
  },
  {
   "cell_type": "code",
   "execution_count": null,
   "id": "1eac73ad",
   "metadata": {},
   "outputs": [],
   "source": []
  }
 ],
 "metadata": {
  "kernelspec": {
   "display_name": "Python 3",
   "language": "python",
   "name": "python3"
  },
  "language_info": {
   "codemirror_mode": {
    "name": "ipython",
    "version": 3
   },
   "file_extension": ".py",
   "mimetype": "text/x-python",
   "name": "python",
   "nbconvert_exporter": "python",
   "pygments_lexer": "ipython3",
   "version": "3.6.13"
  }
 },
 "nbformat": 4,
 "nbformat_minor": 5
}
